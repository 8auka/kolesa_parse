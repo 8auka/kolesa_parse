{
 "cells": [
  {
   "cell_type": "code",
   "execution_count": 5,
   "metadata": {
    "collapsed": true
   },
   "outputs": [],
   "source": [
    "from bs4 import BeautifulSoup as bs\n",
    "import urllib\n",
    "import urllib.request\n",
    "import time \n",
    "import random\n",
    "import numpy as np"
   ]
  },
  {
   "cell_type": "code",
   "execution_count": 6,
   "metadata": {
    "collapsed": true
   },
   "outputs": [],
   "source": [
    "page = urllib.request.urlopen('https://kolesa.kz/cars/').read()\n",
    "soup = bs(page,'html.parser')\n",
    "nav = soup.find('div',{'class':'paginator'})"
   ]
  },
  {
   "cell_type": "code",
   "execution_count": 7,
   "metadata": {
    "collapsed": true
   },
   "outputs": [],
   "source": [
    "counter=0\n",
    "name = []\n",
    "year = []\n",
    "price = []\n",
    "mycol = {}"
   ]
  },
  {
   "cell_type": "code",
   "execution_count": 1,
   "metadata": {},
   "outputs": [
    {
     "ename": "NameError",
     "evalue": "name 'nav' is not defined",
     "output_type": "error",
     "traceback": [
      "\u001b[0;31m---------------------------------------------------------------------------\u001b[0m",
      "\u001b[0;31mNameError\u001b[0m                                 Traceback (most recent call last)",
      "\u001b[0;32m<ipython-input-1-56f6bbac0b0b>\u001b[0m in \u001b[0;36m<module>\u001b[0;34m()\u001b[0m\n\u001b[1;32m      1\u001b[0m \u001b[0;34m\u001b[0m\u001b[0m\n\u001b[1;32m      2\u001b[0m \u001b[0mpageNumber\u001b[0m\u001b[0;34m=\u001b[0m\u001b[0;36m2\u001b[0m\u001b[0;34m\u001b[0m\u001b[0m\n\u001b[0;32m----> 3\u001b[0;31m \u001b[0;32mfor\u001b[0m \u001b[0mn\u001b[0m \u001b[0;32min\u001b[0m \u001b[0mnav\u001b[0m\u001b[0;34m.\u001b[0m\u001b[0mfindAll\u001b[0m\u001b[0;34m(\u001b[0m\u001b[0;34m'a'\u001b[0m\u001b[0;34m)\u001b[0m\u001b[0;34m:\u001b[0m\u001b[0;34m\u001b[0m\u001b[0m\n\u001b[0m\u001b[1;32m      4\u001b[0m     \u001b[0mpage\u001b[0m \u001b[0;34m=\u001b[0m \u001b[0;32mNone\u001b[0m\u001b[0;34m\u001b[0m\u001b[0m\n\u001b[1;32m      5\u001b[0m     \u001b[0;32mwhile\u001b[0m \u001b[0;32mnot\u001b[0m \u001b[0mpage\u001b[0m\u001b[0;34m:\u001b[0m\u001b[0;34m\u001b[0m\u001b[0m\n",
      "\u001b[0;31mNameError\u001b[0m: name 'nav' is not defined"
     ]
    }
   ],
   "source": [
    "\n",
    "pageNumber=2\n",
    "for n in nav.findAll('a'):\n",
    "    page = None\n",
    "    while not page:\n",
    "        try:\n",
    "            page = urllib.request.urlopen('https://kolesa.kz/cars/?page='+str(pageNumber)).read()\n",
    "        except Exception:\n",
    "            print('https://kolesa.kz/cars/?page='+str(pageNumber))\n",
    "            time.sleep(1)\n",
    "    if pageNumber>50:\n",
    "        \n",
    "        break;\n",
    "#     pageNumber+=1\n",
    "    soup = bs(page,'html.parser')\n",
    "    for d in soup.find_all('span',attrs={'class':'a-el-info-title'}):\n",
    "        \n",
    "        counter+=1\n",
    "        page=None\n",
    "        while not page:\n",
    "            try:\n",
    "                page = urllib.request.urlopen('https://kolesa.kz'+d.find('a',attrs={'class','list-link'})['href']).read()\n",
    "\n",
    "            except Exception:\n",
    "                print(d.find('a', attrs={'class', 'list-link'}))\n",
    "                time.sleep(1)\n",
    "        soup=bs(page,'html.parser')\n",
    "        \n",
    "        name.append(soup.find('span',{'itemprop':'brand'}).get_text()+\" \"+soup.find('span',{'itemprop':'name'}).get_text())\n",
    "        year.append(soup.find('span',{'class':'year'}).get_text())\n",
    "        price.append(soup.find('span',{'class':'a-price__text'}).get_text())\n",
    "        dt =  soup.find_all('dt')\n",
    "        dd = soup.find_all('dd')\n",
    "        temp={}\n",
    "    \n",
    "        for i in range(len(dt)):\n",
    "            temp[dt[i].get_text().replace(\" \",\"\").rstrip()]=dd[i].get_text().replace(\"\\n\",\"\").rstrip()\n",
    "        mycol[counter]=temp\n",
    "        print(counter)"
   ]
  },
  {
   "cell_type": "code",
   "execution_count": 108,
   "metadata": {
    "collapsed": true
   },
   "outputs": [],
   "source": [
    "\n",
    "with open(\"data.txt\", \"w\") as f:\n",
    "    templ=[]\n",
    "    for i in mycol.values():\n",
    "        temp=[]\n",
    "        for j in i:\n",
    "#             print(j,\" : \",i[j])\n",
    "            temp.append(j+\" : \"+i[j].replace(\" \",\"\").strip(\"\\n\"))\n",
    "#         f.write(j+\" : \"+i[j]+\"\\n\")\n",
    "        temp1.append(temp)\n",
    "    for i in range(len(name)):\n",
    "        f.write(str(i+1)+\")\"+name[i]+'\\n')\n",
    "        for j in range(len(temp1[i])):\n",
    "            f.write(str(temp1[i][j])+\"\\n\")\n",
    "            \n",
    "#         f.write(str(name[i])+\" : \"+str(temp1[i])+\"\\n\")\n",
    "\n",
    "#         f.write(\" \\n\")"
   ]
  },
  {
   "cell_type": "code",
   "execution_count": null,
   "metadata": {
    "collapsed": true
   },
   "outputs": [],
   "source": []
  },
  {
   "cell_type": "code",
   "execution_count": null,
   "metadata": {
    "collapsed": true
   },
   "outputs": [],
   "source": []
  },
  {
   "cell_type": "code",
   "execution_count": null,
   "metadata": {
    "collapsed": true
   },
   "outputs": [],
   "source": []
  }
 ],
 "metadata": {
  "anaconda-cloud": {},
  "kernelspec": {
   "display_name": "Python [Root]",
   "language": "python",
   "name": "Python [Root]"
  },
  "language_info": {
   "codemirror_mode": {
    "name": "ipython",
    "version": 3
   },
   "file_extension": ".py",
   "mimetype": "text/x-python",
   "name": "python",
   "nbconvert_exporter": "python",
   "pygments_lexer": "ipython3",
   "version": "3.5.2"
  }
 },
 "nbformat": 4,
 "nbformat_minor": 2
}
